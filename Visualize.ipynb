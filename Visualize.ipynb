{
 "cells": [
  {
   "cell_type": "code",
   "execution_count": 7,
   "id": "1509fb2d",
   "metadata": {},
   "outputs": [],
   "source": [
    "import open3d as o3d\n",
    "import numpy as np\n",
    "# from open3d import JVisualizer\n",
    "import pypotree \n",
    "# o3d.visualization.webrtc_server.enable_webrtc()\n",
    "# from open3d.web_visualizer import draw\n",
    "# o3d.visualization.webrtc_server.enable_webrtc()"
   ]
  },
  {
   "cell_type": "code",
   "execution_count": 2,
   "id": "8f98ad65",
   "metadata": {},
   "outputs": [
    {
     "name": "stdout",
     "output_type": "stream",
     "text": [
      "(10, 50000, 3) (10, 128, 3) (10, 128, 10)\n"
     ]
    }
   ],
   "source": [
    "points = np.load('./activations/points.npy')\n",
    "queries = np.load('./activations/queries.npy')\n",
    "activations = np.load('./activations/activations.npy')\n",
    "print(points.shape, queries.shape, activations.shape)"
   ]
  },
  {
   "cell_type": "code",
   "execution_count": 3,
   "id": "069fe8d9",
   "metadata": {},
   "outputs": [],
   "source": [
    "point = points[0,:,:]\n",
    "query = queries[0,:,:]\n",
    "act = activations[0,:,:]"
   ]
  },
  {
   "cell_type": "code",
   "execution_count": 4,
   "id": "12f77190",
   "metadata": {},
   "outputs": [
    {
     "name": "stdout",
     "output_type": "stream",
     "text": [
      "[3 2 2 9 8 2 3 8 3 2 8 3 8 2 8 5 1 2 2 5 3 2 8 8 4 7 3 6 9 1 7 5 8 3 2 5 6\n",
      " 2 3 4 5 5 3 2 5 8 9 1 3 0 3 8 1 6 9 5 5 3 3 8 0 8 7 5 5 4 7 7 1 5 2 1 8 2\n",
      " 9 6 1 5 8 9 2 9 3 3 1 8 1 3 3 4 9 7 3 9 1 5 3 3 7 4 5 3 3 6 0 3 1 3 3 9 4\n",
      " 9 3 1 9 7 9 8 0 8 6 1 9 6 5 0 7 1]\n",
      "[ 2.9608717  4.0610986  3.2857294  4.2464056  2.9233582  4.240125\n",
      "  3.8825397  3.2103066  3.9383042  3.1977406  3.9380367  3.391381\n",
      "  3.410449   3.8056479  3.07815    3.118348   2.3499453  4.028753\n",
      "  4.245771   3.7729273  3.0236428  3.0734253  3.0997539  3.0145466\n",
      "  4.3762116  4.082095   3.5020442  3.3939466  3.353301   3.7695312\n",
      "  2.769732   4.2024264  3.4543068  2.7912796  3.9923584  3.7726035\n",
      "  2.6546557  4.092975   3.3454607  2.8524761  7.793617   3.6981854\n",
      "  3.36361    3.7482507  3.5893743  3.1228268  4.021429   3.8924236\n",
      "  3.5509002  3.54993    2.5065346  2.8561099 10.961569   3.427391\n",
      "  4.041237   3.299795   4.9898524  3.0652611  2.549633   4.2949514\n",
      "  4.3946724  3.2001028  4.1918106  3.807106   3.7861156  3.329877\n",
      "  2.6855555  3.2567322  3.153183   3.0915306  2.7572403  4.4058642\n",
      "  4.200689   3.7585368  2.5273685  3.3524098  3.3379965  3.547324\n",
      "  3.2295938  3.1325402  3.6716113  2.5963278  3.298594   3.559239\n",
      "  2.381324   3.2700078  3.2862723  4.007469   3.3796113  3.3290713\n",
      "  3.830687   3.5967972  3.2778893  3.3144176  3.4081838  3.7475564\n",
      "  3.2837543  2.6817198  5.481712   4.2258587  3.6803718  2.9490304\n",
      "  3.7171395  4.6474824  3.4089408  3.0428612 14.449992   2.8370557\n",
      "  3.1827219  2.7125165  3.4532366  3.2662868  2.9210103  3.1157525\n",
      "  2.7230043  2.7750692  4.1052732  3.5775988  3.4697273  3.6164327\n",
      "  2.896501   7.231504   4.221992   3.853024   3.5909965  3.2167807\n",
      "  3.858142   3.1904855]\n"
     ]
    }
   ],
   "source": [
    "cls_idx = np.argmax(act, axis = 1)\n",
    "prob_val = np.max(act, axis = 1)\n",
    "print(cls_idx)\n",
    "print(prob_val)"
   ]
  },
  {
   "cell_type": "code",
   "execution_count": 7,
   "id": "72e3952e",
   "metadata": {},
   "outputs": [
    {
     "name": "stdout",
     "output_type": "stream",
     "text": [
      "[Open3D INFO] Window window_2 created.\n"
     ]
    },
    {
     "data": {
      "application/vnd.jupyter.widget-view+json": {
       "model_id": "e6f7ac6dff7a48d1b5d0137299e11558",
       "version_major": 2,
       "version_minor": 0
      },
      "text/plain": [
       "WebVisualizer(window_uid='window_2')"
      ]
     },
     "metadata": {},
     "output_type": "display_data"
    }
   ],
   "source": [
    "cube_red = o3d.geometry.TriangleMesh.create_box(1, 2, 4)\n",
    "cube_red.compute_vertex_normals()\n",
    "cube_red.paint_uniform_color((1.0, 0.0, 0.0))\n",
    "draw(cube_red)"
   ]
  },
  {
   "cell_type": "code",
   "execution_count": null,
   "id": "bc71c583",
   "metadata": {},
   "outputs": [],
   "source": []
  }
 ],
 "metadata": {
  "kernelspec": {
   "display_name": "Python 3 (ipykernel)",
   "language": "python",
   "name": "python3"
  },
  "language_info": {
   "codemirror_mode": {
    "name": "ipython",
    "version": 3
   },
   "file_extension": ".py",
   "mimetype": "text/x-python",
   "name": "python",
   "nbconvert_exporter": "python",
   "pygments_lexer": "ipython3",
   "version": "3.9.16"
  }
 },
 "nbformat": 4,
 "nbformat_minor": 5
}
